{
 "cells": [
  {
   "cell_type": "code",
   "execution_count": 1,
   "id": "3b4b7ac7",
   "metadata": {},
   "outputs": [],
   "source": [
    "# Importung Libraries\n",
    "from bs4 import BeautifulSoup\n",
    "import requests\n",
    "import time\n",
    "import datetime\n",
    "import smtplib"
   ]
  },
  {
   "cell_type": "code",
   "execution_count": 2,
   "id": "74f5b8b3",
   "metadata": {},
   "outputs": [
    {
     "name": "stdout",
     "output_type": "stream",
     "text": [
      "\n",
      "                   I'm A Data Base Administrator. I Got This. I Think. - A Soft & Comfortable Men's T-Shirt\n",
      "                  \n",
      "\n",
      "                      $24.99\n",
      "                     \n"
     ]
    }
   ],
   "source": [
    "# Connect to Website and pull in data\n",
    "\n",
    "URL = 'https://www.amazon.com/Data-Base-Administrator-This-Think/dp/B084F1W5TK/ref=sr_1_1?crid=11RDJHTY986RR&keywords=got+data+shirt&qid=1675856438&sr=8-1'\n",
    "headers = {\"User-Agent\": \"Mozilla/5.0 (Windows NT 10.0; Win64; x64) AppleWebKit/537.36 (KHTML, like Gecko) Chrome/109.0.0.0 Safari/537.36 Edg/109.0.1518.78\", \"Accept-Encoding\":\"gzip, deflate\", \"Accept\":\"text/html,application/xhtml+xml,application/xml;q=0.9,*/*;q=0.8\", \"DNT\":\"1\",\"Connection\":\"close\", \"Upgrade-Insecure-Requests\":\"1\"}\n",
    "\n",
    "page = requests.get(URL, headers=headers)\n",
    "\n",
    "\n",
    "soup1 = BeautifulSoup(page.content, \"html.parser\")\n",
    "\n",
    "soup2 = BeautifulSoup(soup1.prettify(), \"html.parser\")\n",
    "\n",
    "title = soup2.find(id='productTitle').get_text()\n",
    "\n",
    "#price = soup2.find(id='priceblock_ourprice').get_text()\n",
    "price = soup2.find(\"span\", attrs={\"class\":\"a-offscreen\"}).get_text()\n",
    "\n",
    "print(title)\n",
    "print(price)"
   ]
  },
  {
   "cell_type": "code",
   "execution_count": 3,
   "id": "9bc88a36",
   "metadata": {},
   "outputs": [
    {
     "name": "stdout",
     "output_type": "stream",
     "text": [
      "I'm A Data Base Administrator. I Got This. I Think. - A Soft & Comfortable Men's T-Shirt\n",
      "24.99\n"
     ]
    }
   ],
   "source": [
    "price=price.strip()[1:]\n",
    "title=title.strip()\n",
    "print(title)\n",
    "print(price)"
   ]
  },
  {
   "cell_type": "code",
   "execution_count": 4,
   "id": "3705506a",
   "metadata": {},
   "outputs": [
    {
     "name": "stdout",
     "output_type": "stream",
     "text": [
      "2023-02-08\n"
     ]
    }
   ],
   "source": [
    "import datetime\n",
    "today=datetime.date.today()\n",
    "print(today)"
   ]
  },
  {
   "cell_type": "code",
   "execution_count": 5,
   "id": "51fcc77a",
   "metadata": {},
   "outputs": [],
   "source": [
    "import csv\n",
    "header=['Title','Price','Date']\n",
    "data=[title,price,today]\n",
    "with open('AmazonWebScraper.csv', 'w', newline='', encoding='UTF8') as f:\n",
    "    writer = csv.writer(f)\n",
    "    writer.writerow(header)\n",
    "    writer.writerow(data)    "
   ]
  },
  {
   "cell_type": "code",
   "execution_count": 6,
   "id": "afe59d65",
   "metadata": {},
   "outputs": [
    {
     "name": "stdout",
     "output_type": "stream",
     "text": [
      "C:\\Users\\rajpu\n"
     ]
    }
   ],
   "source": [
    "cd"
   ]
  },
  {
   "cell_type": "code",
   "execution_count": 22,
   "id": "60140fe9",
   "metadata": {},
   "outputs": [
    {
     "name": "stdout",
     "output_type": "stream",
     "text": [
      "                                               Title  Price        Date\n",
      "0  I'm A Data Base Administrator. I Got This. I T...  24.99  2023-02-08\n",
      "1  I'm A Data Base Administrator. I Got This. I T...  24.99  2023-02-08\n",
      "2  I'm A Data Base Administrator. I Got This. I T...  24.99  2023-02-08\n",
      "3  I'm A Data Base Administrator. I Got This. I T...  24.99  2023-02-08\n",
      "4  I'm A Data Base Administrator. I Got This. I T...  24.99  2023-02-08\n"
     ]
    }
   ],
   "source": [
    "import pandas as pd\n",
    "\n",
    "df = pd.read_csv('C:/Users/rajpu/AmazonWebScraper.csv')\n",
    "\n",
    "print(df)"
   ]
  },
  {
   "cell_type": "code",
   "execution_count": 24,
   "id": "b031bef9",
   "metadata": {},
   "outputs": [],
   "source": [
    "#Appending data to csv\n",
    "import csv\n",
    "header=['Title','Price','Date']\n",
    "data=[title,price,today]\n",
    "\n",
    "with open('AmazonWebScraper.csv', 'a+', newline='', encoding='UTF8') as f:\n",
    "    writer = csv.writer(f)\n",
    "    writer.writerow(data)"
   ]
  },
  {
   "cell_type": "code",
   "execution_count": 25,
   "id": "13c20074",
   "metadata": {},
   "outputs": [],
   "source": [
    "def check_price():\n",
    "    URL = 'https://www.amazon.com/Data-Base-Administrator-This-Think/dp/B084F1W5TK/ref=sr_1_1?crid=11RDJHTY986RR&keywords=got+data+shirt&qid=1675856438&sr=8-1'\n",
    "    headers = {\"User-Agent\": \"Mozilla/5.0 (Windows NT 10.0; Win64; x64) AppleWebKit/537.36 (KHTML, like Gecko) Chrome/109.0.0.0 Safari/537.36 Edg/109.0.1518.78\", \"Accept-Encoding\":\"gzip, deflate\", \"Accept\":\"text/html,application/xhtml+xml,application/xml;q=0.9,*/*;q=0.8\", \"DNT\":\"1\",\"Connection\":\"close\", \"Upgrade-Insecure-Requests\":\"1\"}\n",
    "\n",
    "    page = requests.get(URL, headers=headers)\n",
    "\n",
    "    soup1 = BeautifulSoup(page.content, \"html.parser\")\n",
    "\n",
    "    soup2 = BeautifulSoup(soup1.prettify(), \"html.parser\")\n",
    "\n",
    "    title = soup2.find(id='productTitle').get_text()\n",
    "\n",
    "    price = soup2.find(\"span\", attrs={\"class\":\"a-offscreen\"}).get_text()\n",
    "\n",
    "    price = price.strip()[1:]\n",
    "    title = title.strip()\n",
    "\n",
    "    import datetime\n",
    "\n",
    "    today = datetime.date.today()\n",
    "    \n",
    "    import csv \n",
    "\n",
    "    header = ['Title', 'Price', 'Date']\n",
    "    data = [title, price, today]\n",
    "\n",
    "    with open('AmazonWebScraper.csv', 'a+', newline='', encoding='UTF8') as f:\n",
    "        writer = csv.writer(f)\n",
    "        writer.writerow(data)\n",
    " \n",
    "    "
   ]
  },
  {
   "cell_type": "code",
   "execution_count": 26,
   "id": "94aef099",
   "metadata": {},
   "outputs": [
    {
     "ename": "KeyboardInterrupt",
     "evalue": "",
     "output_type": "error",
     "traceback": [
      "\u001b[1;31m---------------------------------------------------------------------------\u001b[0m",
      "\u001b[1;31mKeyboardInterrupt\u001b[0m                         Traceback (most recent call last)",
      "Input \u001b[1;32mIn [26]\u001b[0m, in \u001b[0;36m<cell line: 2>\u001b[1;34m()\u001b[0m\n\u001b[0;32m      1\u001b[0m \u001b[38;5;28;01mwhile\u001b[39;00m(\u001b[38;5;28;01mTrue\u001b[39;00m):\n\u001b[0;32m      2\u001b[0m     check_price()\n\u001b[1;32m----> 3\u001b[0m     \u001b[43mtime\u001b[49m\u001b[38;5;241;43m.\u001b[39;49m\u001b[43msleep\u001b[49m\u001b[43m(\u001b[49m\u001b[38;5;241;43m5\u001b[39;49m\u001b[43m)\u001b[49m\n",
      "\u001b[1;31mKeyboardInterrupt\u001b[0m: "
     ]
    }
   ],
   "source": [
    "while(True):\n",
    "    check_price()\n",
    "    time.sleep(86400)"
   ]
  },
  {
   "cell_type": "code",
   "execution_count": 27,
   "id": "6dfbd2ea",
   "metadata": {},
   "outputs": [
    {
     "name": "stdout",
     "output_type": "stream",
     "text": [
      "                                                Title  Price        Date\n",
      "0   I'm A Data Base Administrator. I Got This. I T...  24.99  2023-02-08\n",
      "1   I'm A Data Base Administrator. I Got This. I T...  24.99  2023-02-08\n",
      "2   I'm A Data Base Administrator. I Got This. I T...  24.99  2023-02-08\n",
      "3   I'm A Data Base Administrator. I Got This. I T...  24.99  2023-02-08\n",
      "4   I'm A Data Base Administrator. I Got This. I T...  24.99  2023-02-08\n",
      "5   I'm A Data Base Administrator. I Got This. I T...  24.99  2023-02-08\n",
      "6   I'm A Data Base Administrator. I Got This. I T...  24.99  2023-02-08\n",
      "7   I'm A Data Base Administrator. I Got This. I T...  24.99  2023-02-08\n",
      "8   I'm A Data Base Administrator. I Got This. I T...  24.99  2023-02-08\n",
      "9   I'm A Data Base Administrator. I Got This. I T...  24.99  2023-02-08\n",
      "10  I'm A Data Base Administrator. I Got This. I T...  24.99  2023-02-08\n",
      "11  I'm A Data Base Administrator. I Got This. I T...  24.99  2023-02-08\n",
      "12  I'm A Data Base Administrator. I Got This. I T...  24.99  2023-02-08\n",
      "13  I'm A Data Base Administrator. I Got This. I T...  24.99  2023-02-08\n",
      "14  I'm A Data Base Administrator. I Got This. I T...  24.99  2023-02-08\n",
      "15  I'm A Data Base Administrator. I Got This. I T...  24.99  2023-02-08\n",
      "16  I'm A Data Base Administrator. I Got This. I T...  24.99  2023-02-08\n"
     ]
    }
   ],
   "source": [
    "import pandas as pd\n",
    "\n",
    "df = pd.read_csv('C:/Users/rajpu/AmazonWebScraper.csv')\n",
    "\n",
    "print(df)"
   ]
  },
  {
   "cell_type": "code",
   "execution_count": null,
   "id": "6b1287d2",
   "metadata": {},
   "outputs": [],
   "source": []
  }
 ],
 "metadata": {
  "kernelspec": {
   "display_name": "Python 3 (ipykernel)",
   "language": "python",
   "name": "python3"
  },
  "language_info": {
   "codemirror_mode": {
    "name": "ipython",
    "version": 3
   },
   "file_extension": ".py",
   "mimetype": "text/x-python",
   "name": "python",
   "nbconvert_exporter": "python",
   "pygments_lexer": "ipython3",
   "version": "3.9.12"
  }
 },
 "nbformat": 4,
 "nbformat_minor": 5
}
